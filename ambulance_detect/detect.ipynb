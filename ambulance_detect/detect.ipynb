{
 "cells": [
  {
   "cell_type": "code",
   "execution_count": null,
   "metadata": {},
   "outputs": [],
   "source": [
    "\n",
    "from inference_sdk import InferenceHTTPClient\n",
    "\n",
    "CLIENT = InferenceHTTPClient(\n",
    "    api_url=\"https://detect.roboflow.com\",\n",
    "    api_key=\"t9MiLnODPWvJmI3X6QOx\"\n",
    ")\n",
    "\n",
    "result = CLIENT.infer(\"/content/ambu.jpg\", model_id=\"traffic_management-1hjbr/2\")\n",
    "predictions = result['predictions']\n",
    "\n",
    "# Iterate over predictions and print the class for each one\n",
    "for prediction in predictions:\n",
    "    class_label = prediction['class']\n",
    "    print(\"Detected class:\", class_label)"
   ]
  },
  {
   "cell_type": "code",
   "execution_count": null,
   "metadata": {},
   "outputs": [],
   "source": []
  }
 ],
 "metadata": {
  "language_info": {
   "name": "python"
  }
 },
 "nbformat": 4,
 "nbformat_minor": 2
}
